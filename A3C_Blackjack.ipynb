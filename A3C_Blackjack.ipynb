{
  "cells": [
    {
      "cell_type": "code",
      "execution_count": null,
      "metadata": {
        "colab": {
          "base_uri": "https://localhost:8080/"
        },
        "id": "7PoJDVgt61pP",
        "outputId": "d6bfaa18-6e0a-49c2-bb40-73cf4614e059"
      },
      "outputs": [],
      "source": [
        "%pip install gym"
      ]
    },
    {
      "cell_type": "code",
      "execution_count": null,
      "metadata": {
        "colab": {
          "base_uri": "https://localhost:8080/"
        },
        "id": "rQdqZbwHFuAN",
        "outputId": "e72cd634-695e-4306-c1fe-b56235c8df23"
      },
      "outputs": [],
      "source": [
        "import gym\n",
        "import numpy as np\n",
        "import tensorflow as tf\n",
        "from tensorflow.keras import layers\n",
        "import threading\n",
        "import multiprocessing\n",
        "import matplotlib.pyplot as plt\n",
        "import queue\n",
        "\n",
        "env_name = \"Blackjack-v1\"\n",
        "env = gym.make(env_name)"
      ]
    },
    {
      "cell_type": "code",
      "execution_count": 2,
      "metadata": {
        "id": "hJxk4QFiF5Mh"
      },
      "outputs": [],
      "source": [
        "class ActorCriticModel(tf.keras.Model):\n",
        "    def __init__(self, action_size):\n",
        "        super(ActorCriticModel, self).__init__()\n",
        "        self.common = layers.Dense(128, activation='relu')\n",
        "        self.actor = layers.Dense(action_size, activation='softmax')\n",
        "        self.critic = layers.Dense(1)\n",
        "\n",
        "    def call(self, inputs):\n",
        "        x = self.common(inputs)\n",
        "        return self.actor(x), self.critic(x)\n",
        "\n",
        "def build_model(action_size):\n",
        "    model = ActorCriticModel(action_size)\n",
        "    return model\n"
      ]
    },
    {
      "cell_type": "code",
      "execution_count": 3,
      "metadata": {
        "id": "qmAeV6SqF9Wb"
      },
      "outputs": [],
      "source": [
        "class A3CWorker(threading.Thread):\n",
        "    def __init__(self, env_name, global_model, optimizer, result_queue, idx, max_episodes, gamma=0.99):\n",
        "        super(A3CWorker, self).__init__()\n",
        "        self.result_queue = result_queue\n",
        "        self.global_model = global_model\n",
        "        self.optimizer = optimizer\n",
        "        self.idx = idx\n",
        "        self.gamma = gamma\n",
        "        self.env = gym.make(env_name)\n",
        "        self.local_model = build_model(self.env.action_space.n)\n",
        "        self.episodes = 0\n",
        "        self.max_episodes = max_episodes\n",
        "\n",
        "    def run(self):\n",
        "        total_step = 1\n",
        "        while self.episodes < self.max_episodes:\n",
        "            current_state = self.env.reset()\n",
        "            done = False\n",
        "            score = 0\n",
        "            while not done:\n",
        "                # Get the action probabilities from the local model\n",
        "                logits, _ = self.local_model(tf.convert_to_tensor(np.expand_dims(current_state, axis=0), dtype=tf.float32))\n",
        "                # Select an action based on the probabilities\n",
        "                action = np.random.choice(self.env.action_space.n, p=logits.numpy().ravel())\n",
        "                new_state, reward, done, _ = self.env.step(action)\n",
        "                score += reward\n",
        "                self.episodes += 1\n",
        "\n",
        "                # Update model parameters\n",
        "                with tf.GradientTape() as tape:\n",
        "                  # Get the value estimates for the current and new states\n",
        "                    logits, values = self.local_model(tf.convert_to_tensor(np.expand_dims(current_state, axis=0), dtype=tf.float32))\n",
        "                    _, next_value = self.local_model(tf.convert_to_tensor(np.expand_dims(new_state, axis=0), dtype=tf.float32))\n",
        "                    # Calculate the target value\n",
        "                    target = reward + self.gamma * next_value * (1 - done)\n",
        "                    advantage = target - values\n",
        "                    actor_loss = -tf.math.log(logits[0, action]) * advantage\n",
        "                    critic_loss = advantage ** 2\n",
        "                    total_loss = actor_loss + critic_loss\n",
        "\n",
        "                # Compute gradients\n",
        "                grads = tape.gradient(total_loss, self.local_model.trainable_weights)\n",
        "                self.optimizer.apply_gradients(zip(grads, self.global_model.trainable_weights))\n",
        "                current_state = new_state\n",
        "                total_step += 1\n",
        "\n",
        "            self.result_queue.put(score)\n",
        "            print(f\"Worker {self.idx} | Episode: {self.episodes} | Score: {score}\")\n"
      ]
    },
    {
      "cell_type": "code",
      "execution_count": null,
      "metadata": {
        "colab": {
          "base_uri": "https://localhost:8080/"
        },
        "collapsed": true,
        "id": "3tBuBd8aGBqf",
        "outputId": "03a3f1ab-4924-478f-da01-8256c35b6628"
      },
      "outputs": [],
      "source": [
        "def train_a3c(env_name, num_workers=multiprocessing.cpu_count(), max_episodes=1000):\n",
        "    env = gym.make(env_name)\n",
        "    state_size = len(env.observation_space.sample())\n",
        "    action_size = env.action_space.n\n",
        "\n",
        "    global_model = build_model(action_size)\n",
        "    global_model(tf.convert_to_tensor(np.random.random((1, state_size)), dtype=tf.float32))\n",
        "    optimizer = tf.keras.optimizers.Adam(learning_rate=0.001)\n",
        "\n",
        "    result_queue = queue.Queue()\n",
        "    #intialize workers\n",
        "    workers = [A3CWorker(env_name, global_model, optimizer, result_queue, idx, max_episodes) for idx in range(num_workers)]\n",
        "\n",
        "    for worker in workers:\n",
        "        worker.start()\n",
        "\n",
        "    scores = []\n",
        "    for _ in range(max_episodes):  # Collect results\n",
        "        scores.append(result_queue.get())\n",
        "\n",
        "    # Join threads\n",
        "    for worker in workers:\n",
        "        worker.join()\n",
        "\n",
        "    return scores, global_model\n",
        "\n",
        "scores, model = train_a3c(env_name)"
      ]
    },
    {
      "cell_type": "code",
      "execution_count": null,
      "metadata": {},
      "outputs": [],
      "source": [
        "def train_a3c(env_name, num_workers=multiprocessing.cpu_count(), max_episodes=1000):\n",
        "    env = gym.make(env_name)\n",
        "    state_size = len(env.observation_space.sample())\n",
        "    action_size = env.action_space.n\n",
        "\n",
        "    global_model = build_model(action_size)\n",
        "    global_model(tf.convert_to_tensor(np.random.random((1, state_size)), dtype=tf.float32))\n",
        "    optimizer = tf.keras.optimizers.Adam(learning_rate=0.001)\n",
        "\n",
        "    result_queue = queue.Queue()\n",
        "    #intialize workers\n",
        "    workers = [A3CWorker(env_name, global_model, optimizer, result_queue, idx, max_episodes) for idx in range(num_workers)]\n",
        "\n",
        "    for worker in workers:\n",
        "        worker.start()\n",
        "\n",
        "    scores = []\n",
        "    for _ in range(max_episodes):  # Collect results\n",
        "        scores.append(result_queue.get())\n",
        "\n",
        "    # Join threads\n",
        "    for worker in workers:\n",
        "        worker.join()\n",
        "\n",
        "    return scores, global_model\n",
        "\n",
        "scores, model = train_a3c(env_name)"
      ]
    },
    {
      "cell_type": "code",
      "execution_count": null,
      "metadata": {
        "colab": {
          "base_uri": "https://localhost:8080/",
          "height": 472
        },
        "collapsed": true,
        "id": "bNIPC8RXWohL",
        "outputId": "2ab84c6e-442a-4902-8fc0-1b6d63b927d4"
      },
      "outputs": [
        {
          "data": {
            "image/png": "[encoded data removed]",
            "text/plain": [
              "<Figure size 640x480 with 1 Axes>"
            ]
          },
          "metadata": {},
          "output_type": "display_data"
        }
      ],
      "source": [
        "def plot_results(scores):\n",
        "    plt.plot(scores)\n",
        "    plt.xlabel('Episode')\n",
        "    plt.ylabel('Score')\n",
        "    plt.title('A3C Agent Performance in Blackjack')\n",
        "    plt.show()\n",
        "\n",
        "plot_results(scores)"
      ]
    },
    {
      "cell_type": "code",
      "execution_count": 6,
      "metadata": {
        "colab": {
          "base_uri": "https://localhost:8080/"
        },
        "collapsed": true,
        "id": "P9Hpt4jOIY4a",
        "outputId": "72268fc5-07e2-4bc5-be5d-947eaf218a01"
      },
      "outputs": [
        {
          "name": "stdout",
          "output_type": "stream",
          "text": [
            "Player's hand: [12]\n",
            "Deale visible hand: 10\n",
            "Loss! :(  -1.0 \n",
            "\n",
            "Player's hand: [12]\n",
            "Deale visible hand: 1\n",
            "Loss! :(  -1.0 \n",
            "\n",
            "Player's hand: [12]\n",
            "Deale visible hand: 4\n",
            "Loss! :(  -1.0 \n",
            "\n",
            "Player's hand: [12]\n",
            "Deale visible hand: 8\n",
            "Loss! :(  -1.0 \n",
            "\n",
            "Player's hand: [13]\n",
            "Deale visible hand: 5\n",
            "Loss! :(  -1.0 \n",
            "\n",
            "Player's hand: [21]\n",
            "Deale visible hand: 2\n",
            "Win! :)  1.0 \n",
            "\n",
            "Player's hand: [17]\n",
            "Deale visible hand: 7\n",
            "Loss! :(  -1.0 \n",
            "\n",
            "Player's hand: [17]\n",
            "Deale visible hand: 2\n",
            "Loss! :(  -1.0 \n",
            "\n",
            "Player's hand: [15]\n",
            "Deale visible hand: 6\n",
            "Win! :)  1.0 \n",
            "\n",
            "Player's hand: [13]\n",
            "Deale visible hand: 8\n",
            "Win! :)  1.0 \n",
            "\n",
            "Win percentage:  30.0 %\n",
            "\n",
            "Draw percentage:  0.0 %\n",
            "\n",
            "Losing percentage:  70.0 %\n",
            "\n"
          ]
        }
      ],
      "source": [
        "env = gym.make(env_name)\n",
        "games = 10\n",
        "wins = 0\n",
        "losses = 0\n",
        "draws = 0\n",
        "verbose = True\n",
        "\n",
        "for episode in range(games):\n",
        "    current_state = env.reset()\n",
        "    done = False\n",
        "    score = 0\n",
        "    player_hand = []\n",
        "    dealer_hand = []\n",
        "\n",
        "    # Get the initial player and dealer cards\n",
        "    player_hand.append(current_state[0])  # Player's first card\n",
        "    dealer_visible_card = current_state[1]  # Dealer's visible card (1-10 where 1 is ace)\n",
        "    dealer_hand.append(dealer_visible_card)\n",
        "\n",
        "    while not done:\n",
        "        logits, _ = model(tf.convert_to_tensor(np.expand_dims(current_state, axis=0), dtype=tf.float32))\n",
        "        action = np.argmax(logits.numpy())\n",
        "        new_state, reward, done, _ = env.step(action)\n",
        "        score += reward\n",
        "        current_state = new_state\n",
        "    # Update the player's hand\n",
        "        if action == 1:  # Hit\n",
        "            player_hand.append(current_state[0])\n",
        "\n",
        "    if (verbose):\n",
        "      # Print the result of the game\n",
        "      print(\"Player's hand:\", [count for count in player_hand])\n",
        "      print(\"Deale visible hand:\",dealer_visible_card)\n",
        "\n",
        "    if score > 0:\n",
        "        print(\"Win! :) \", score, \"\\n\")\n",
        "        wins += 1\n",
        "    elif score == 0:\n",
        "        print(\"Draw! :| \", score, \"\\n\")\n",
        "        draws += 1\n",
        "    else:\n",
        "        print(\"Loss! :( \", score, \"\\n\")\n",
        "        losses += 1\n",
        "\n",
        "print(\"Win percentage: \", (wins/games)*100, \"%\\n\")\n",
        "print(\"Draw percentage: \", (draws/games)*100, \"%\\n\")\n",
        "print(\"Losing percentage: \", (losses/games)*100, \"%\\n\")"
      ]
    }
  ],
  "metadata": {
    "colab": {
      "provenance": []
    },
    "kernelspec": {
      "display_name": "Python 3",
      "name": "python3"
    },
    "language_info": {
      "name": "python"
    }
  },
  "nbformat": 4,
  "nbformat_minor": 0
}
